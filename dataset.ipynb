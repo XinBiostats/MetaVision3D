{
 "cells": [
  {
   "cell_type": "code",
   "execution_count": 1,
   "id": "6c5d9bd0-355b-4f53-8334-c2b96a708042",
   "metadata": {},
   "outputs": [],
   "source": [
    "import numpy as np\n",
    "import pandas as pd"
   ]
  },
  {
   "cell_type": "code",
   "execution_count": 46,
   "id": "d49c3207-2d15-46be-8952-6fb914452f4d",
   "metadata": {},
   "outputs": [],
   "source": [
    "data_path = './data/3d_lipid_nonorm.csv'\n",
    "df = pd.read_csv(data_path,index_col=0)"
   ]
  },
  {
   "cell_type": "code",
   "execution_count": 47,
   "id": "49eb3d94-4daf-4f48-9f80-f806611aa3fd",
   "metadata": {},
   "outputs": [],
   "source": [
    "df.columns = df.columns.str.replace('.', '_',regex=False)"
   ]
  },
  {
   "cell_type": "code",
   "execution_count": 48,
   "id": "211032ed-85be-4b94-baa7-db25883022c0",
   "metadata": {},
   "outputs": [
    {
     "name": "stdout",
     "output_type": "stream",
     "text": [
      "81\n"
     ]
    }
   ],
   "source": [
    "nslice = len(df.tissue_id.unique())\n",
    "print(nslice)"
   ]
  },
  {
   "cell_type": "code",
   "execution_count": 49,
   "id": "95939b73-dd1c-472a-b9d4-91558e125d12",
   "metadata": {},
   "outputs": [],
   "source": [
    "#delete inferior slices\n",
    "df = df[~df['tissue_id'].isin([17,80])]"
   ]
  },
  {
   "cell_type": "code",
   "execution_count": 50,
   "id": "193d9743-ffde-4905-bd4a-26e840204ac8",
   "metadata": {},
   "outputs": [
    {
     "name": "stdout",
     "output_type": "stream",
     "text": [
      "79\n"
     ]
    }
   ],
   "source": [
    "nslice = len(df.tissue_id.unique())\n",
    "print(nslice)"
   ]
  },
  {
   "cell_type": "code",
   "execution_count": 51,
   "id": "5775688f-16a7-4ac2-a1b1-f01263a543e4",
   "metadata": {},
   "outputs": [],
   "source": [
    "#delete tissue_id=na\n",
    "df = df.loc[~df.tissue_id.isna()]"
   ]
  },
  {
   "cell_type": "code",
   "execution_count": 52,
   "id": "8ba13f82-ee3d-42a4-8221-9a6623e96641",
   "metadata": {},
   "outputs": [],
   "source": [
    "#reset tissue_id\n",
    "df.tissue_id.unique()\n",
    "new_id = np.arange(nslice)+1\n",
    "id_dict = dict(zip(df.tissue_id.unique(),new_id))\n",
    "df['tissue_id'] = df['tissue_id'].map(id_dict)"
   ]
  },
  {
   "cell_type": "code",
   "execution_count": 53,
   "id": "3d483443-4209-41ea-b93a-41937c04e6a6",
   "metadata": {},
   "outputs": [],
   "source": [
    "df = df.drop(columns=['spotId','raster'])"
   ]
  },
  {
   "cell_type": "code",
   "execution_count": 54,
   "id": "ceed5dc6-ed73-45bf-ac6e-ebc895cfc026",
   "metadata": {},
   "outputs": [],
   "source": [
    "df.to_csv('./data/3d_lipid.csv',index=False)"
   ]
  }
 ],
 "metadata": {
  "kernelspec": {
   "display_name": "maldi3d",
   "language": "python",
   "name": "maldi3d"
  },
  "language_info": {
   "codemirror_mode": {
    "name": "ipython",
    "version": 3
   },
   "file_extension": ".py",
   "mimetype": "text/x-python",
   "name": "python",
   "nbconvert_exporter": "python",
   "pygments_lexer": "ipython3",
   "version": "3.10.12"
  }
 },
 "nbformat": 4,
 "nbformat_minor": 5
}
