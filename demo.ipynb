{
 "cells": [
  {
   "cell_type": "code",
   "execution_count": 1,
   "id": "fb200599-7b01-4ea9-baf0-48e784540a01",
   "metadata": {},
   "outputs": [],
   "source": [
    "from modules.setup import *\n",
    "from modules.utils import *\n",
    "from modules.MetaNorm3D import *\n",
    "from modules.MetaAlign3D import *\n",
    "from modules.MetaImpute3D import *\n",
    "from modules.MetaInterp3D import *\n",
    "from modules.MetaAtlas3D import *\n",
    "from modules.visualize import *\n",
    "from modules.evaluate import *"
   ]
  },
  {
   "cell_type": "code",
   "execution_count": 2,
   "id": "de32b038-7cc0-42fb-8cbb-f6126324b033",
   "metadata": {
    "tags": []
   },
   "outputs": [],
   "source": [
    "group = 'wt' # 'wt','wt2','gaa','5x'\n",
    "omic = 'lipid' # 'lipid', 'sm'"
   ]
  },
  {
   "cell_type": "code",
   "execution_count": 3,
   "id": "a1a24025-9d1e-4c67-a01c-96b9c0471835",
   "metadata": {
    "tags": []
   },
   "outputs": [],
   "source": [
    "# input data path\n",
    "data_file_path = f'./data/{group}/3d_brain_{group}_pbp_{omic}_preprocessed.csv'\n",
    "shell_file_path = f'./data/{group}/{group}_shell.csv' # shell is the off-tissue matrix, optional"
   ]
  },
  {
   "cell_type": "markdown",
   "id": "a0b9334e-7216-474b-96cc-d6055ce364fc",
   "metadata": {},
   "source": [
    "# Load data"
   ]
  },
  {
   "cell_type": "code",
   "execution_count": 5,
   "id": "92e583eb-c0ed-4b48-8b34-86b1427ac4a7",
   "metadata": {},
   "outputs": [],
   "source": [
    "df = pd.read_csv(data_file_path,index_col=0,usecols=range(31)) # only load first 30 columns for demonstration"
   ]
  },
  {
   "cell_type": "code",
   "execution_count": null,
   "id": "1f382f07-da79-47a1-9cb5-d85e77db8e14",
   "metadata": {
    "tags": []
   },
   "outputs": [],
   "source": [
    "shell = pd.read_csv(shell_file_path,index_col=0)\n",
    "df = remove_shell(df,shell) # remove shell from tissue, optional step"
   ]
  },
  {
   "cell_type": "code",
   "execution_count": null,
   "id": "76f4c1c6-7fc8-4c04-b55c-61b725a04d2d",
   "metadata": {},
   "outputs": [],
   "source": [
    "df.head()"
   ]
  },
  {
   "cell_type": "code",
   "execution_count": 9,
   "id": "1f94d9d6-d14a-4b47-8bb3-4470d9ec9aee",
   "metadata": {
    "tags": []
   },
   "outputs": [],
   "source": [
    "df, deleted_compound = delete_low_prevalence_compound(df, 0.1, first_feature='LPA.18.1.') # LPA.18.1 is the first compound"
   ]
  },
  {
   "cell_type": "code",
   "execution_count": null,
   "id": "eacd5108-0eb0-4536-be2d-2c0247fe5327",
   "metadata": {
    "tags": []
   },
   "outputs": [],
   "source": [
    "deleted_compound"
   ]
  },
  {
   "cell_type": "markdown",
   "id": "3eaaeb1d-40ad-429d-8490-fc269f3f3b23",
   "metadata": {
    "tags": []
   },
   "source": [
    "# Preview"
   ]
  },
  {
   "cell_type": "markdown",
   "id": "d40a2de3-75f7-49ab-afb6-e4b6666e8e04",
   "metadata": {},
   "source": [
    "## check orientation"
   ]
  },
  {
   "cell_type": "code",
   "execution_count": null,
   "id": "a86a8ec2-c578-4865-bc15-3c6d05c77efb",
   "metadata": {
    "tags": []
   },
   "outputs": [],
   "source": [
    "preview_matrix = create_compound_matrix(df, compound='LPA.18.1.',reverse=True)\n",
    "display_montage(preview_matrix,grayscale=False,cmap=new_cmap1)"
   ]
  },
  {
   "cell_type": "code",
   "execution_count": 12,
   "id": "6edf2a36-379e-45f5-9a9e-c4e99520404a",
   "metadata": {
    "tags": []
   },
   "outputs": [],
   "source": [
    "# flip in the up/down direction\n",
    "df = flip_axis(df,flipud=True)"
   ]
  },
  {
   "cell_type": "code",
   "execution_count": null,
   "id": "1c83ac39-3724-44c1-9555-f4679dc090b0",
   "metadata": {
    "tags": []
   },
   "outputs": [],
   "source": [
    "preview_matrix = create_compound_matrix(df, compound='LPA.18.1.',reverse=True)\n",
    "display_montage(preview_matrix,grayscale=False,cmap=new_cmap1)"
   ]
  },
  {
   "cell_type": "markdown",
   "id": "b5205df9-9490-40c8-aa16-bdf5bc8aa07a",
   "metadata": {},
   "source": [
    "## remove inferior tissue"
   ]
  },
  {
   "cell_type": "code",
   "execution_count": 14,
   "id": "d2648127-ae5c-4367-aa88-c73e8eb63eef",
   "metadata": {
    "tags": []
   },
   "outputs": [],
   "source": [
    "# delete inferior sections\n",
    "inferior_tissues_id = [62,67,116]"
   ]
  },
  {
   "cell_type": "code",
   "execution_count": 15,
   "id": "b4cb094c-601c-447b-9bca-8f4727933c01",
   "metadata": {
    "tags": []
   },
   "outputs": [],
   "source": [
    "df = delete_inferior_tissues(df,inferior_tissues_id,first_feature='LPA.18.1.',reverse=True)"
   ]
  },
  {
   "cell_type": "code",
   "execution_count": null,
   "id": "63872074-47aa-44b0-853c-dbde2da6e38b",
   "metadata": {
    "tags": []
   },
   "outputs": [],
   "source": [
    "preview_matrix = create_compound_matrix(df, compound='LPA.18.1.',reverse=True)\n",
    "display_montage(preview_matrix,grayscale=False,cmap=new_cmap1)"
   ]
  },
  {
   "cell_type": "markdown",
   "id": "38225480-2f8c-47f1-b009-dffacd885c00",
   "metadata": {
    "tags": []
   },
   "source": [
    "# MetaNorm3D"
   ]
  },
  {
   "cell_type": "code",
   "execution_count": 17,
   "id": "c22e7494-c110-425e-9385-bdbe7a973e7a",
   "metadata": {},
   "outputs": [],
   "source": [
    "# normalization\n",
    "meta_norm = MetaNorm3D(df, first_feature='LPA.18.1.')"
   ]
  },
  {
   "cell_type": "code",
   "execution_count": 18,
   "id": "adab3e32-facc-44e9-a6e6-c07d4fa01a59",
   "metadata": {},
   "outputs": [],
   "source": [
    "# totalsum normalization\n",
    "data = meta_norm.totalsum_norm()"
   ]
  },
  {
   "cell_type": "code",
   "execution_count": null,
   "id": "4c22b040-deb2-4e03-a2d2-b93c828c47ef",
   "metadata": {
    "tags": []
   },
   "outputs": [],
   "source": [
    "preview_matrix = create_compound_matrix(data, compound='LPA.18.1.',reverse=True)\n",
    "display_montage(preview_matrix,grayscale=False,cmap=new_cmap1)"
   ]
  },
  {
   "cell_type": "code",
   "execution_count": 20,
   "id": "b3d0fc27-59ae-4bbe-a16e-c87aaec2c968",
   "metadata": {},
   "outputs": [],
   "source": [
    "# section normalization\n",
    "data = meta_norm.section_norm()"
   ]
  },
  {
   "cell_type": "code",
   "execution_count": null,
   "id": "f7d91d01-61a0-4cbd-aca4-7825f05a3f2a",
   "metadata": {
    "tags": []
   },
   "outputs": [],
   "source": [
    "preview_matrix = create_compound_matrix(data, compound='LPA.18.1.',reverse=True)\n",
    "display_montage(preview_matrix,grayscale=False,cmap=new_cmap1)"
   ]
  },
  {
   "cell_type": "markdown",
   "id": "b8700502-c2eb-428a-afaf-e6be58533c7b",
   "metadata": {
    "tags": []
   },
   "source": [
    "# MetaAlign3D"
   ]
  },
  {
   "cell_type": "code",
   "execution_count": 22,
   "id": "5cfd74bb-19f3-4f3e-8068-493a33a387fb",
   "metadata": {
    "tags": []
   },
   "outputs": [],
   "source": [
    "compound = 'LPA.18.1.'"
   ]
  },
  {
   "cell_type": "code",
   "execution_count": null,
   "id": "79491f55-a8db-4205-bd29-ed1ff6cac45b",
   "metadata": {
    "tags": []
   },
   "outputs": [],
   "source": [
    "meta_align = MetaAlign3D(group,data,compound,first_feature='LPA.18.1.', reverse=True)"
   ]
  },
  {
   "cell_type": "markdown",
   "id": "614d0afb-9ff8-4436-bad8-d2530e00a5d8",
   "metadata": {},
   "source": [
    "## Manual slices fitting"
   ]
  },
  {
   "cell_type": "code",
   "execution_count": null,
   "id": "cc897d6a-df9f-4a7b-94cd-6db51f680333",
   "metadata": {},
   "outputs": [],
   "source": [
    "# manual slices fitting and create compound matrix\n",
    "compound_matrix = meta_align.create_compound_matrix()"
   ]
  },
  {
   "cell_type": "code",
   "execution_count": null,
   "id": "9e33b36e-dbe5-460a-9e0a-1b822f4e2db2",
   "metadata": {
    "tags": []
   },
   "outputs": [],
   "source": [
    "display_montage(compound_matrix,grayscale=True)"
   ]
  },
  {
   "cell_type": "code",
   "execution_count": null,
   "id": "b948d263-5200-4ba5-aa8c-e148adbbc5ea",
   "metadata": {
    "tags": []
   },
   "outputs": [],
   "source": [
    "display_animation(compound_matrix,grayscale=False,cmap=new_cmap1)"
   ]
  },
  {
   "cell_type": "markdown",
   "id": "4f25dc9c-29ae-4532-bdd2-21825af5990a",
   "metadata": {
    "tags": []
   },
   "source": [
    "## Sequential Alignment"
   ]
  },
  {
   "cell_type": "code",
   "execution_count": null,
   "id": "f02bd8cb-88bd-41b7-b8d9-3e3b7075983f",
   "metadata": {},
   "outputs": [],
   "source": [
    "aligned_matrix = meta_align.seq_align()"
   ]
  },
  {
   "cell_type": "code",
   "execution_count": null,
   "id": "a5bac399-6e13-4039-a500-0f08846094ec",
   "metadata": {},
   "outputs": [],
   "source": [
    "display_animation(aligned_matrix,grayscale=False,cmap=new_cmap1)"
   ]
  },
  {
   "cell_type": "markdown",
   "id": "b59fbce7-de6c-4c8e-9ac4-6d5e721318a8",
   "metadata": {
    "tags": []
   },
   "source": [
    "# MetaImpute3D"
   ]
  },
  {
   "cell_type": "code",
   "execution_count": 29,
   "id": "dcaab7d9-9f59-444b-a5af-571fac834e0d",
   "metadata": {},
   "outputs": [],
   "source": [
    "meta_impute = MetaImpute3D(aligned_matrix,radius=1)"
   ]
  },
  {
   "cell_type": "code",
   "execution_count": 30,
   "id": "ab2b125b-3c5a-4af7-a523-b087edfb3b85",
   "metadata": {},
   "outputs": [],
   "source": [
    "imputed_matrix = meta_impute.seq_impute()"
   ]
  },
  {
   "cell_type": "code",
   "execution_count": null,
   "id": "d1d8d956-0b75-4de4-9418-bd6a4d569bf1",
   "metadata": {
    "tags": []
   },
   "outputs": [],
   "source": [
    "display_montage(imputed_matrix,grayscale=False,cmap=new_cmap1)"
   ]
  },
  {
   "cell_type": "code",
   "execution_count": null,
   "id": "2d11d3d0-ebb7-463a-bf36-7f6a83b9b569",
   "metadata": {
    "tags": []
   },
   "outputs": [],
   "source": [
    "display_animation(imputed_matrix,grayscale=False,cmap=new_cmap1)"
   ]
  },
  {
   "cell_type": "markdown",
   "id": "3c4283db-49b0-4a7b-b421-c3ec16deef04",
   "metadata": {
    "tags": []
   },
   "source": [
    "# MetaInterp3D"
   ]
  },
  {
   "cell_type": "code",
   "execution_count": 33,
   "id": "712a401e-6893-46df-8eaa-6f2894270329",
   "metadata": {},
   "outputs": [],
   "source": [
    "# add 2 more slices \n",
    "meta_interp = MetaInterp3D(imputed_matrix,2)"
   ]
  },
  {
   "cell_type": "code",
   "execution_count": 34,
   "id": "8a31e2ef-7284-4f24-9fb9-1f65f709b76b",
   "metadata": {},
   "outputs": [],
   "source": [
    "interpolated_matrix = meta_interp.interp()"
   ]
  },
  {
   "cell_type": "code",
   "execution_count": null,
   "id": "0dc37bf9-83ce-4e18-88b9-1edd4f4d18f9",
   "metadata": {
    "tags": []
   },
   "outputs": [],
   "source": [
    "display_interp_montage(interpolated_matrix,new_cmap1,new_cmap2,insert=2)"
   ]
  },
  {
   "cell_type": "markdown",
   "id": "9859e2ba-1175-44b1-80e0-70b779dc599b",
   "metadata": {},
   "source": [
    "# MetaAtlas3D"
   ]
  },
  {
   "cell_type": "code",
   "execution_count": 36,
   "id": "a16c557f-8e3e-4f69-b2f8-0e3c62359176",
   "metadata": {
    "tags": []
   },
   "outputs": [],
   "source": [
    "meta_atlas = MetaAtlas3D(interpolated_matrix,resolution=50,thickness=30,gap=0,insert=2)\n",
    "nii_img = meta_atlas.create_nii()"
   ]
  },
  {
   "cell_type": "code",
   "execution_count": 38,
   "id": "a74ec647-f1b3-472f-b95a-08189c884f2f",
   "metadata": {
    "tags": []
   },
   "outputs": [],
   "source": [
    "nii_path = f'./output/{group}/{omic}/3D'\n",
    "if not os.path.exists(nii_path):\n",
    "    os.makedirs(nii_path)\n",
    "nib.save(nii_img, f'{nii_path}/{compound}.nii.gz')"
   ]
  }
 ],
 "metadata": {
  "kernelspec": {
   "display_name": "Python 3 (ipykernel)",
   "language": "python",
   "name": "python3"
  },
  "language_info": {
   "codemirror_mode": {
    "name": "ipython",
    "version": 3
   },
   "file_extension": ".py",
   "mimetype": "text/x-python",
   "name": "python",
   "nbconvert_exporter": "python",
   "pygments_lexer": "ipython3",
   "version": "3.11.6"
  }
 },
 "nbformat": 4,
 "nbformat_minor": 5
}
